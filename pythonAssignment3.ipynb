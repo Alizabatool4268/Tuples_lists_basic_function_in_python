{
  "nbformat": 4,
  "nbformat_minor": 0,
  "metadata": {
    "colab": {
      "provenance": [],
      "authorship_tag": "ABX9TyMQ20f1+0UN89U7qgIRdvUu",
      "include_colab_link": true
    },
    "kernelspec": {
      "name": "python3",
      "display_name": "Python 3"
    },
    "language_info": {
      "name": "python"
    }
  },
  "cells": [
    {
      "cell_type": "markdown",
      "metadata": {
        "id": "view-in-github",
        "colab_type": "text"
      },
      "source": [
        "<a href=\"https://colab.research.google.com/github/Alizabatool4268/Tuples_lists_basic_function_in_python/blob/main/pythonAssignment3.ipynb\" target=\"_parent\"><img src=\"https://colab.research.google.com/assets/colab-badge.svg\" alt=\"Open In Colab\"/></a>"
      ]
    },
    {
      "cell_type": "markdown",
      "source": [
        "**ALIZA BATOOL**\n",
        "\n",
        "**THURSDAY (9-12)**\n",
        "\n",
        "**ASSIGNMENT THREE**"
      ],
      "metadata": {
        "id": "1DpMiesMDAzH"
      }
    },
    {
      "cell_type": "markdown",
      "source": [
        "#**BASIC LIST OPERATORS**"
      ],
      "metadata": {
        "id": "AJ9SzH6jDjEV"
      }
    },
    {
      "cell_type": "markdown",
      "source": [
        "1. Create a list of five numbers and append a new number to it. Print the updated list."
      ],
      "metadata": {
        "id": "hqMet8RjDq8S"
      }
    },
    {
      "cell_type": "code",
      "source": [
        "numbers:list[int] = [4,9,16,25,36]\n",
        "numbers.append(49)\n",
        "print(numbers)"
      ],
      "metadata": {
        "colab": {
          "base_uri": "https://localhost:8080/"
        },
        "id": "4-wFu-s5DZ9B",
        "outputId": "e8dc8781-8c73-4808-8345-615820eb3bdc"
      },
      "execution_count": null,
      "outputs": [
        {
          "output_type": "stream",
          "name": "stdout",
          "text": [
            "[4, 9, 16, 25, 36, 49]\n"
          ]
        }
      ]
    },
    {
      "cell_type": "markdown",
      "source": [
        "2. Extend a list [1, 2, 3] with another list [4, 5, 6]. Print the result."
      ],
      "metadata": {
        "id": "ieKsmZR3EYR3"
      }
    },
    {
      "cell_type": "code",
      "source": [
        "extend_List:list[int]=[1,2,3]\n",
        "extend_List.extend([4,5,6])\n",
        "print(extend_List)"
      ],
      "metadata": {
        "colab": {
          "base_uri": "https://localhost:8080/"
        },
        "id": "OnJgDaqdEaAl",
        "outputId": "2484734c-ccae-4789-95ba-0022816ad39b"
      },
      "execution_count": null,
      "outputs": [
        {
          "output_type": "stream",
          "name": "stdout",
          "text": [
            "[1, 2, 3, 4, 5, 6]\n"
          ]
        }
      ]
    },
    {
      "cell_type": "markdown",
      "source": [
        "3. Insert the string \"Python\" at index 2 in the list [\"Java\", \"C++\", \"JavaScript\",\n",
        "\"Ruby\"]."
      ],
      "metadata": {
        "id": "uACkzbT4E3Ol"
      }
    },
    {
      "cell_type": "code",
      "source": [
        "language:list[str]= [\"Java\", \"C++\", \"JavaScript\", \"Ruby\"]\n",
        "language.insert(2,\"python\")\n",
        "print(language)"
      ],
      "metadata": {
        "colab": {
          "base_uri": "https://localhost:8080/"
        },
        "id": "5PGwpSl5E5m_",
        "outputId": "b8ea0ff5-78ba-4237-a8ae-f312f1cbc7ae"
      },
      "execution_count": null,
      "outputs": [
        {
          "output_type": "stream",
          "name": "stdout",
          "text": [
            "['Java', 'C++', 'python', 'JavaScript', 'Ruby']\n"
          ]
        }
      ]
    },
    {
      "cell_type": "markdown",
      "source": [
        "4. Remove the first occurrence of the number 10 from the list [10, 20, 30, 10, 40]."
      ],
      "metadata": {
        "id": "SBFjTo_-FvRH"
      }
    },
    {
      "cell_type": "code",
      "source": [
        "num:list[int] = [10, 20, 30, 10, 40]\n",
        "num.remove(10)\n",
        "print(num)"
      ],
      "metadata": {
        "colab": {
          "base_uri": "https://localhost:8080/"
        },
        "id": "llWhQCicFyqU",
        "outputId": "3eb19afd-6f37-4642-863a-4b5c442ee4ad"
      },
      "execution_count": null,
      "outputs": [
        {
          "output_type": "stream",
          "name": "stdout",
          "text": [
            "[20, 30, 10, 40]\n"
          ]
        }
      ]
    },
    {
      "cell_type": "markdown",
      "source": [
        "5. Use the pop() method to remove the last element from [100, 200, 300, 400] and\n",
        "print the modified list."
      ],
      "metadata": {
        "id": "etKTFKmfGQwf"
      }
    },
    {
      "cell_type": "code",
      "source": [
        "num_List:list[int] = [100, 200, 300, 400]\n",
        "num_List.pop()\n",
        "print(num_List)"
      ],
      "metadata": {
        "colab": {
          "base_uri": "https://localhost:8080/"
        },
        "id": "P8G-NQQRGZcA",
        "outputId": "275be77b-9bd0-4301-b022-9a8394671364"
      },
      "execution_count": null,
      "outputs": [
        {
          "output_type": "stream",
          "name": "stdout",
          "text": [
            "[100, 200, 300]\n"
          ]
        }
      ]
    },
    {
      "cell_type": "markdown",
      "source": [
        "#**Intermediate List Operations**"
      ],
      "metadata": {
        "id": "TYHdGGpkHAXC"
      }
    },
    {
      "cell_type": "markdown",
      "source": [
        "6. Count how many times the number 5 appears in the list [5, 10, 5, 20, 5, 30]."
      ],
      "metadata": {
        "id": "kEnApCrRHEgb"
      }
    },
    {
      "cell_type": "code",
      "source": [
        "count_apperance:list[int]= [5, 10, 5, 20, 5, 30]\n",
        "print(count_apperance.count(5))"
      ],
      "metadata": {
        "colab": {
          "base_uri": "https://localhost:8080/"
        },
        "id": "2wAEtYBLHIo7",
        "outputId": "086c5805-f998-4bdb-da8a-ff1e192f1905"
      },
      "execution_count": null,
      "outputs": [
        {
          "output_type": "stream",
          "name": "stdout",
          "text": [
            "3\n"
          ]
        }
      ]
    },
    {
      "cell_type": "markdown",
      "source": [
        "7. Sort the list [9, 1, 8, 3, 5] in ascending and descending order."
      ],
      "metadata": {
        "id": "Mt_SGWZCHbyi"
      }
    },
    {
      "cell_type": "code",
      "source": [
        "sort_list:list[int]= [9, 1, 8, 3, 5]\n",
        "sort_list.sort()\n",
        "print(\"ascending\",sort_list)\n",
        "sort_list.sort(reverse=True)\n",
        "print(\"Descenending order\",sort_list)"
      ],
      "metadata": {
        "colab": {
          "base_uri": "https://localhost:8080/"
        },
        "id": "Nm6sXQuWHihg",
        "outputId": "70d5916c-028f-44c9-838a-74b98cc7e281"
      },
      "execution_count": null,
      "outputs": [
        {
          "output_type": "stream",
          "name": "stdout",
          "text": [
            "ascending [1, 3, 5, 8, 9]\n",
            "Descenending order [9, 8, 5, 3, 1]\n"
          ]
        }
      ]
    },
    {
      "cell_type": "markdown",
      "source": [
        "8. Reverse the list [“apple”, “banana”, “cherry”] using the reverse() method."
      ],
      "metadata": {
        "id": "ZjhgBQMCIT4s"
      }
    },
    {
      "cell_type": "code",
      "source": [
        "fruits:list[str]= [\"apple\", \"banana\", \"cherry\"]\n",
        "fruits.reverse()\n",
        "print(fruits)"
      ],
      "metadata": {
        "colab": {
          "base_uri": "https://localhost:8080/"
        },
        "id": "0yYJ8t-OIVYB",
        "outputId": "554254aa-e090-4125-9f4a-fa8986047777"
      },
      "execution_count": null,
      "outputs": [
        {
          "output_type": "stream",
          "name": "stdout",
          "text": [
            "['cherry', 'banana', 'apple']\n"
          ]
        }
      ]
    },
    {
      "cell_type": "markdown",
      "source": [
        "9. Create a copy of the list [1, 2, 3, 4, 5] and store it in another variable. Modify the\n",
        "copied list and print both lists."
      ],
      "metadata": {
        "id": "twYrf8KfI19-"
      }
    },
    {
      "cell_type": "code",
      "source": [
        "num_og:list[int]=[1, 2, 3, 4, 5]\n",
        "num_modified = num_og[:5]\n",
        "num_modified.append(6)\n",
        "print(\"modified list\",num_modified)\n",
        "print(\"original list after modification \",num_og)"
      ],
      "metadata": {
        "colab": {
          "base_uri": "https://localhost:8080/"
        },
        "id": "D_Cy3X-WI4MM",
        "outputId": "c9945394-4bf5-4900-d8fc-8d53d488e721"
      },
      "execution_count": null,
      "outputs": [
        {
          "output_type": "stream",
          "name": "stdout",
          "text": [
            "modified list [1, 2, 3, 4, 5, 6]\n",
            "original list after modification  [1, 2, 3, 4, 5]\n"
          ]
        }
      ]
    },
    {
      "cell_type": "markdown",
      "source": [
        "10. Clear all elements from a list [“hello”, “world”, “python”] using the clear()\n",
        "method."
      ],
      "metadata": {
        "id": "PusgTBkHLdlP"
      }
    },
    {
      "cell_type": "code",
      "source": [
        "lang =  [\"hello\", \"world\", \"python\"]\n",
        "lang.clear()\n",
        "print(lang)"
      ],
      "metadata": {
        "colab": {
          "base_uri": "https://localhost:8080/"
        },
        "id": "14Xqs9WALe8v",
        "outputId": "5329f8e9-ee27-4e7b-d99a-f7c68d81fcd6"
      },
      "execution_count": null,
      "outputs": [
        {
          "output_type": "stream",
          "name": "stdout",
          "text": [
            "[]\n"
          ]
        }
      ]
    },
    {
      "cell_type": "markdown",
      "source": [
        "#**Tuple-Based Questions**"
      ],
      "metadata": {
        "id": "3ifu7TSpQImU"
      }
    },
    {
      "cell_type": "markdown",
      "source": [
        "11. Create a tuple with 5 different fruits and print the third fruit."
      ],
      "metadata": {
        "id": "uj0oN7dsQOSl"
      }
    },
    {
      "cell_type": "code",
      "source": [
        "fruit_Tuple = (\"apple\",\"kiwi\",\"banana\",\"pear\",\"mango\")\n",
        "print(fruit_Tuple[2])"
      ],
      "metadata": {
        "colab": {
          "base_uri": "https://localhost:8080/"
        },
        "id": "FGZQi8afQSLY",
        "outputId": "67573cf8-843a-43c7-c4e5-392e76203fba"
      },
      "execution_count": null,
      "outputs": [
        {
          "output_type": "stream",
          "name": "stdout",
          "text": [
            "('apple', 'kiwi', 'banana', 'pear', 'mango')\n"
          ]
        }
      ]
    },
    {
      "cell_type": "markdown",
      "source": [
        "12. Convert the tuple (10, 20, 30, 40, 50) into a list, remove the number 30, and convert\n",
        "it back into a tuple."
      ],
      "metadata": {
        "id": "_ETE40GLRr3s"
      }
    },
    {
      "cell_type": "code",
      "source": [
        "num_Tuple=(10, 20, 30, 40, 50)\n",
        "lst = list(num_Tuple)\n",
        "print(\"tuple to list\",lst)\n",
        "lst.remove(30)\n",
        "print(\"30 removed\",lst)\n",
        "back_to_tuple = tuple(lst)\n",
        "print(\"Back to tuple\",back_to_tuple)"
      ],
      "metadata": {
        "id": "Uc2bMe47Rvog",
        "colab": {
          "base_uri": "https://localhost:8080/"
        },
        "outputId": "9841e9bc-8a8f-4372-a013-4999a2eda5b8"
      },
      "execution_count": null,
      "outputs": [
        {
          "output_type": "stream",
          "name": "stdout",
          "text": [
            "tuple to list [10, 20, 30, 40, 50]\n",
            "30 removed [10, 20, 40, 50]\n",
            "Back to tuple (10, 20, 40, 50)\n"
          ]
        }
      ]
    },
    {
      "cell_type": "markdown",
      "source": [
        "13. Try to append an element to the tuple (“A”, “B”, “C”). What happens? How can you\n",
        "modify a tuple indirectly?\n"
      ],
      "metadata": {
        "id": "3WkYic7qBXaJ"
      }
    },
    {
      "cell_type": "code",
      "source": [
        "alphabets = (\"A\",\"B\",\"C\")\n",
        "alphabets.append(\"E\")\n",
        "print(alphabets)\n"
      ],
      "metadata": {
        "colab": {
          "base_uri": "https://localhost:8080/",
          "height": 176
        },
        "id": "gWSCG745BZED",
        "outputId": "27a1b7db-b331-4651-9447-26caf849200e"
      },
      "execution_count": null,
      "outputs": [
        {
          "output_type": "error",
          "ename": "AttributeError",
          "evalue": "'tuple' object has no attribute 'append'",
          "traceback": [
            "\u001b[0;31m---------------------------------------------------------------------------\u001b[0m",
            "\u001b[0;31mAttributeError\u001b[0m                            Traceback (most recent call last)",
            "\u001b[0;32m<ipython-input-12-8bace570d8e6>\u001b[0m in \u001b[0;36m<cell line: 0>\u001b[0;34m()\u001b[0m\n\u001b[1;32m      1\u001b[0m \u001b[0malphabets\u001b[0m \u001b[0;34m=\u001b[0m \u001b[0;34m(\u001b[0m\u001b[0;34m\"A\"\u001b[0m\u001b[0;34m,\u001b[0m\u001b[0;34m\"B\"\u001b[0m\u001b[0;34m,\u001b[0m\u001b[0;34m\"C\"\u001b[0m\u001b[0;34m)\u001b[0m\u001b[0;34m\u001b[0m\u001b[0;34m\u001b[0m\u001b[0m\n\u001b[0;32m----> 2\u001b[0;31m \u001b[0malphabets\u001b[0m\u001b[0;34m.\u001b[0m\u001b[0mappend\u001b[0m\u001b[0;34m(\u001b[0m\u001b[0;34m\"E\"\u001b[0m\u001b[0;34m)\u001b[0m\u001b[0;34m\u001b[0m\u001b[0;34m\u001b[0m\u001b[0m\n\u001b[0m\u001b[1;32m      3\u001b[0m \u001b[0mprint\u001b[0m\u001b[0;34m(\u001b[0m\u001b[0malphabets\u001b[0m\u001b[0;34m)\u001b[0m\u001b[0;34m\u001b[0m\u001b[0;34m\u001b[0m\u001b[0m\n",
            "\u001b[0;31mAttributeError\u001b[0m: 'tuple' object has no attribute 'append'"
          ]
        }
      ]
    },
    {
      "cell_type": "markdown",
      "source": [
        "Trying to append tuples is not allowed as tuples are not mutable we get an error message if we do so, justifying the above statement.\n",
        "\n",
        "**ERROR MESSAGE: 'tuple' object has no attribute 'append'**\n",
        "\n",
        "For mutating them them indirectly we can follow a procedure like as follows:\n",
        "\n",
        "1-we can first convert the tuple into a list.\n",
        "\n",
        "2-SInce a list in mutable, we can mutate it as our desire.\n",
        "\n",
        "3-The final step is to convert it back in to a tuple.\n",
        "\n"
      ],
      "metadata": {
        "id": "weU-sRieCMJ9"
      }
    },
    {
      "cell_type": "code",
      "source": [
        "#Indirect mutating method\n",
        "alphabets = (\"A\",\"B\",\"C\")\n",
        "lst_alpha = list(alphabets)\n",
        "print(\"converted to list\",lst_alpha)\n",
        "lst_alpha.append(\"E\")\n",
        "print(\"MOdified the list \",lst_alpha)\n",
        "Tuple_convert = tuple(lst_alpha)\n",
        "print(\"Back to tuple\",Tuple_convert)"
      ],
      "metadata": {
        "colab": {
          "base_uri": "https://localhost:8080/"
        },
        "id": "S28J9WrYEdKu",
        "outputId": "2fe380c9-a377-4541-e509-22887ac69740"
      },
      "execution_count": null,
      "outputs": [
        {
          "output_type": "stream",
          "name": "stdout",
          "text": [
            "converted to list ['A', 'B', 'C']\n",
            "MOdified the list  ['A', 'B', 'C', 'E']\n",
            "('A', 'B', 'C', 'E')\n"
          ]
        }
      ]
    },
    {
      "cell_type": "markdown",
      "source": [
        "14. Unpack the tuple (100, 200, 300) into three separate variables and print them."
      ],
      "metadata": {
        "id": "2soKIDW0FkSk"
      }
    },
    {
      "cell_type": "code",
      "source": [
        "nums=(100, 200, 300)\n",
        "b,c,d = nums\n",
        "print(b)\n",
        "print(c)\n",
        "print(d)"
      ],
      "metadata": {
        "colab": {
          "base_uri": "https://localhost:8080/"
        },
        "id": "75Oi27pLFpFd",
        "outputId": "8916aab6-5d7b-463d-fb2a-5e34b3b5c977"
      },
      "execution_count": null,
      "outputs": [
        {
          "output_type": "stream",
          "name": "stdout",
          "text": [
            "100\n",
            "200\n",
            "300\n"
          ]
        }
      ]
    },
    {
      "cell_type": "markdown",
      "source": [
        "15. Count the occurrences of 7 in the tuple (7, 1, 7, 3, 7, 5)."
      ],
      "metadata": {
        "id": "lto-GHRGGQUj"
      }
    },
    {
      "cell_type": "code",
      "source": [
        "count=  (7, 1, 7, 3, 7, 5)\n",
        "print(count.count(7))"
      ],
      "metadata": {
        "colab": {
          "base_uri": "https://localhost:8080/"
        },
        "id": "1yQNN3kOGSwI",
        "outputId": "5840bc45-3f4e-4646-ad59-009e4902adef"
      },
      "execution_count": null,
      "outputs": [
        {
          "output_type": "stream",
          "name": "stdout",
          "text": [
            "3\n"
          ]
        }
      ]
    },
    {
      "cell_type": "markdown",
      "source": [
        "#**Advanced Problems**"
      ],
      "metadata": {
        "id": "dq03nO0LaAqz"
      }
    },
    {
      "cell_type": "markdown",
      "source": [
        "16. Write a function that takes a list and returns a new list with all even numbers removed."
      ],
      "metadata": {
        "id": "fBODNAdeacXP"
      }
    },
    {
      "cell_type": "code",
      "source": [
        "def remove_even_num (lst):\n",
        "   return [num for num in lst if num % 2!=0]\n",
        "removed_even = remove_even_num([2,3,4,9,33,11,99,24,4,7,0])\n",
        "print(removed_even)"
      ],
      "metadata": {
        "colab": {
          "base_uri": "https://localhost:8080/"
        },
        "id": "dOwflVb9aWDC",
        "outputId": "000c6b47-60d7-4b28-a72c-320142eb4fa7"
      },
      "execution_count": null,
      "outputs": [
        {
          "output_type": "stream",
          "name": "stdout",
          "text": [
            "[3, 9, 33, 11, 99, 7]\n"
          ]
        }
      ]
    },
    {
      "cell_type": "markdown",
      "source": [
        "17. Create a function that accepts a list and returns a new list with elements sorted in\n",
        "descending order without using the sort() method."
      ],
      "metadata": {
        "id": "y3MGNT72fX03"
      }
    },
    {
      "cell_type": "code",
      "source": [
        "def descending_order (new_list):\n",
        "  return sorted(new_list, reverse=True)\n",
        "descending_order([1,2,88,9,44])\n"
      ],
      "metadata": {
        "colab": {
          "base_uri": "https://localhost:8080/"
        },
        "id": "9FpwXrlOHWeI",
        "outputId": "f636278f-9382-401a-bddd-389d26075dea"
      },
      "execution_count": null,
      "outputs": [
        {
          "output_type": "execute_result",
          "data": {
            "text/plain": [
              "[88, 44, 9, 2, 1]"
            ]
          },
          "metadata": {},
          "execution_count": 4
        }
      ]
    },
    {
      "cell_type": "markdown",
      "source": [
        "18. Given a list of numbers, write a program to remove all duplicate elements and print the\n",
        "unique elements."
      ],
      "metadata": {
        "id": "m5ZdwVe4IvGl"
      }
    },
    {
      "cell_type": "code",
      "source": [
        "def unique_num (number_lst):\n",
        "  return[num for num in number_lst if number_lst.count(num)==1]\n",
        "unique_num([1,2,3,4,4,4])\n",
        "#used  the count funcTion for the check to exclude the redundant(reOccuring) numbers"
      ],
      "metadata": {
        "colab": {
          "base_uri": "https://localhost:8080/"
        },
        "id": "2qKhb6kUIw-m",
        "outputId": "4f619c59-5a03-416d-aad6-b03b09e7bb89"
      },
      "execution_count": null,
      "outputs": [
        {
          "output_type": "execute_result",
          "data": {
            "text/plain": [
              "[1, 2, 3]"
            ]
          },
          "metadata": {},
          "execution_count": 8
        }
      ]
    },
    {
      "cell_type": "markdown",
      "source": [
        "19. Given a tuple of names (“Alice”, “Bob”, “Charlie”, “Alice”, “David”), convert\n",
        "it into a list, remove duplicates, and convert it back to a tuple."
      ],
      "metadata": {
        "id": "LFJJnKKbOT01"
      }
    },
    {
      "cell_type": "code",
      "source": [
        "names = (\"Alice\", \"Bob\", \"Charlie\", \"Alice\", \"David\")\n",
        "names_list = list(names)\n",
        "print(\"tuple to list\",names_list)\n",
        "remove_duplicates= set(names_list)\n",
        "print(\"duplicates removed in list\",remove_duplicates)\n",
        "back_To_Tuple = tuple(remove_duplicates)\n",
        "print(back_To_Tuple)"
      ],
      "metadata": {
        "colab": {
          "base_uri": "https://localhost:8080/"
        },
        "id": "QzP4xvJcOVcc",
        "outputId": "83d6b0b3-ec0c-406c-aa3d-c805df0fdd38"
      },
      "execution_count": null,
      "outputs": [
        {
          "output_type": "stream",
          "name": "stdout",
          "text": [
            "tuple to list ['Alice', 'Bob', 'Charlie', 'Alice', 'David']\n",
            "duplicates removed in list {'Charlie', 'Bob', 'David', 'Alice'}\n",
            "('Charlie', 'Bob', 'David', 'Alice')\n"
          ]
        }
      ]
    },
    {
      "cell_type": "markdown",
      "source": [
        "20. Create a program that takes a list of mixed data types (int, str, float) and separates\n",
        "integers into one list, strings into another, and floats into another."
      ],
      "metadata": {
        "id": "pHW_iFqKP5Mc"
      }
    },
    {
      "cell_type": "code",
      "source": [
        "def separator (latest_list):\n",
        "  string_values=[value for value in latest_list if isinstance(value, str) ]\n",
        "  integer_values = [value for value in latest_list if isinstance(value, int)and not isinstance(value,bool)]\n",
        "  float_values=[value for value in latest_list if isinstance(value, float)]\n",
        "  return string_values,integer_values,float_values\n",
        "string_lst,integer_lst,float_list =separator([\"a\",\"b\",1,False,23.3,2,3,33.99,\"i\"])\n",
        "print(string_lst)\n",
        "print(integer_lst)\n",
        "print(float_list)\n",
        "\n"
      ],
      "metadata": {
        "colab": {
          "base_uri": "https://localhost:8080/"
        },
        "id": "HENT6VQUP6Wt",
        "outputId": "ab92eba7-dcb8-4c70-b1cf-f696466fb77b"
      },
      "execution_count": null,
      "outputs": [
        {
          "output_type": "stream",
          "name": "stdout",
          "text": [
            "['a', 'b', 'i']\n",
            "[1, 2, 3]\n",
            "[23.3, 33.99]\n"
          ]
        }
      ]
    }
  ]
}